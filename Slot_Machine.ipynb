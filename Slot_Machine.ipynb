{
 "cells": [
  {
   "cell_type": "code",
   "execution_count": null,
   "metadata": {},
   "outputs": [],
   "source": [
    "import random           #Generates random values\n"
   ]
  },
  {
   "cell_type": "code",
   "execution_count": null,
   "metadata": {},
   "outputs": [],
   "source": [
    "MAX_LINES = 3\n",
    "MIN_BET = 1\n",
    "MAX_BET = 100\n",
    "\n",
    "ROWS = 3\n",
    "COLS = 3\n",
    "\n",
    "symbol_count = {\"A\": 2,\n",
    "                \"B\": 4,\n",
    "                \"C\": 6,\n",
    "                \"D\":8\n",
    "                }\n",
    "\n",
    "symbol_value = {\"A\": 5,\n",
    "                \"B\": 4,\n",
    "                \"C\": 3,\n",
    "                \"D\":2\n",
    "                }"
   ]
  },
  {
   "cell_type": "code",
   "execution_count": null,
   "metadata": {},
   "outputs": [],
   "source": [
    "def check_winnings(columns, lines, bet, values):\n",
    "    winnings = 0\n",
    "    winnings_lines = []\n",
    "    for line in range(lines):\n",
    "        symbol = columns[0][line]\n",
    "        for column in columns:\n",
    "            symbol_to_check = column[line]\n",
    "            if symbol == symbol_to_check:\n",
    "                break\n",
    "        else:\n",
    "            winnings += values[symbol] * bet\n",
    "            winnings_lines.append(line + 1)\n",
    "    return winnings, winnings_lines\n"
   ]
  },
  {
   "cell_type": "code",
   "execution_count": null,
   "metadata": {},
   "outputs": [],
   "source": [
    "def get_slot_machine_spin(rows, cols, symbols):\n",
    "    all_symbols = []\n",
    "    for symbol, symbol_count in symbols.items():\n",
    "        for _ in range(symbol_count):\n",
    "            all_symbols.append(symbol)\n",
    "\n",
    "    columns = []\n",
    "    for _ in range(cols):\n",
    "        column = []                               #\n",
    "        current_symbols= all_symbols[:]                 #adding colon in bruckets to copy the list all_symbols\n",
    "        for _ in range(rows):\n",
    "            value = random.choice(current_symbols)\n",
    "            current_symbols.remove(value)\n",
    "            column.append(value)\n",
    "\n",
    "        columns.append(column)\n",
    "\n",
    "    return columns"
   ]
  },
  {
   "cell_type": "code",
   "execution_count": null,
   "metadata": {},
   "outputs": [],
   "source": [
    "def print_slot_machine(columns):\n",
    "    for row in range(len(columns[0])):\n",
    "        for i , column in enumerate(columns):\n",
    "            if i != len(columns) -1:\n",
    "                print(column[row], end=\" | \")  # \\n this symbol works like the enter button\n",
    "            else:\n",
    "                print(column[row], end=\"\")\n",
    "\n",
    "        print()"
   ]
  },
  {
   "cell_type": "code",
   "execution_count": null,
   "metadata": {},
   "outputs": [],
   "source": [
    "def deposit():\n",
    "    while True:\n",
    "        amount = input(\"Give your deposit... $\")\n",
    "        if amount.isdigit():\n",
    "            amount = int(amount)\n",
    "            if amount > 0:\n",
    "                break\n",
    "            else:\n",
    "                print(\"Amount must be greater than 0.\")\n",
    "        else:\n",
    "            print(\"Please enter a number.\")\n",
    "    return amount\n"
   ]
  },
  {
   "cell_type": "code",
   "execution_count": null,
   "metadata": {},
   "outputs": [],
   "source": [
    "#deposit()"
   ]
  },
  {
   "cell_type": "code",
   "execution_count": null,
   "metadata": {},
   "outputs": [],
   "source": [
    "def get_lines():\n",
    "    while True:\n",
    "        lines = input(\"Enter the number of lines to bet on (1- \" + str(MAX_LINES) + \")?\")\n",
    "        if lines.isdigit():\n",
    "            lines = int(lines)\n",
    "            if 1 <= lines <= MAX_LINES:\n",
    "                break\n",
    "            else:\n",
    "                print(\"Enter valid of lines.\")\n",
    "        else:\n",
    "            print(\"Please enter a number.\")\n",
    "    return lines"
   ]
  },
  {
   "cell_type": "code",
   "execution_count": null,
   "metadata": {},
   "outputs": [],
   "source": [
    "def get_bet():\n",
    "    while True:\n",
    "        bet = input(\"What would you like to bet?\")\n",
    "        if bet.isdigit():\n",
    "            bet = int(bet)\n",
    "            if MIN_BET <= bet <= MAX_BET:\n",
    "                break\n",
    "            else:\n",
    "                print(f\"Bet must be between ${MIN_BET} - ${MAX_BET}\")\n",
    "        else:\n",
    "            print(\"Please enter a number.\")\n",
    "    return bet"
   ]
  },
  {
   "cell_type": "code",
   "execution_count": null,
   "metadata": {},
   "outputs": [],
   "source": [
    "#get_bet()"
   ]
  },
  {
   "cell_type": "code",
   "execution_count": null,
   "metadata": {},
   "outputs": [],
   "source": [
    "def spin(balance):   \n",
    "    lines = get_lines()\n",
    "    while True:\n",
    "        bet = get_bet()\n",
    "        total_bet = bet * lines\n",
    "\n",
    "        if total_bet > balance:\n",
    "            print(f\"You have no money,  your balance is {balance}$\")\n",
    "        else:\n",
    "            break\n",
    "\n",
    "    print(f\"You are betting ${bet} on {lines}. Total bet is equal to: {total_bet}$\")\n",
    "\n",
    "\n",
    "    slots = get_slot_machine_spin(ROWS, COLS, symbol_count)\n",
    "    print_slot_machine(slots)\n",
    "    winnings, winning_lines= check_winnings(slots, lines, bet , symbol_value)\n",
    "    print(f\"You won ${winnings}.\")\n",
    "    print(f\"You won on lines\", *winning_lines)           #Splat operator, pashes every line from winning_lines\n",
    "    return winnings - total_bet\n"
   ]
  },
  {
   "cell_type": "code",
   "execution_count": null,
   "metadata": {},
   "outputs": [],
   "source": [
    "def main():\n",
    "    balance = deposit()\n",
    "    while True:\n",
    "        print(f\"Current balance is ${balance}\")\n",
    "        answer = input(\"Press enter to spin (q to quit)\")\n",
    "        if answer == \"q\":\n",
    "            break\n",
    "        balance += spin(balance)\n",
    "\n",
    "    print(f\"You're left with ${balance}\")"
   ]
  },
  {
   "cell_type": "code",
   "execution_count": null,
   "metadata": {},
   "outputs": [],
   "source": [
    "main()"
   ]
  },
  {
   "cell_type": "markdown",
   "metadata": {},
   "source": []
  }
 ],
 "metadata": {
  "kernelspec": {
   "display_name": "Python 3",
   "language": "python",
   "name": "python3"
  },
  "language_info": {
   "codemirror_mode": {
    "name": "ipython",
    "version": 3
   },
   "file_extension": ".py",
   "mimetype": "text/x-python",
   "name": "python",
   "nbconvert_exporter": "python",
   "pygments_lexer": "ipython3",
   "version": "3.11.7"
  }
 },
 "nbformat": 4,
 "nbformat_minor": 2
}
